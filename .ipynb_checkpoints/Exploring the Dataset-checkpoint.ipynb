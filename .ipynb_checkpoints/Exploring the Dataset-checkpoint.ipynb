{
 "cells": [
  {
   "cell_type": "markdown",
   "metadata": {},
   "source": [
    "# Exploring the Dataset\n",
    "\n",
    "Summary:\n",
    "\n",
    "This notebook is used to explore the dataset in depth, and make observations based on the results from the dataset."
   ]
  },
  {
   "cell_type": "code",
   "execution_count": 1,
   "metadata": {},
   "outputs": [],
   "source": [
    "# Basic Libraries\n",
    "import numpy as np\n",
    "import pandas as pd\n",
    "import seaborn as sb\n",
    "import matplotlib.pyplot as plt # we only need pyplot\n",
    "sb.set() # set the default Seaborn style for graphics\n",
    "\n",
    "import Geohash\n",
    "import matplotlib.pyplot as plt"
   ]
  },
  {
   "cell_type": "code",
   "execution_count": 2,
   "metadata": {},
   "outputs": [],
   "source": [
    "# Essential FUnctions\n",
    "\n",
    "def gh_decode(hash):\n",
    "    lat, lon = Geohash.decode(hash)\n",
    "    return pd.Series({\"latitude\":lat, \"longitude\":lon})\n",
    "\n",
    "%matplotlib inline"
   ]
  },
  {
   "cell_type": "code",
   "execution_count": 3,
   "metadata": {
    "scrolled": true
   },
   "outputs": [
    {
     "name": "stdout",
     "output_type": "stream",
     "text": [
      "The Original dataset:\n"
     ]
    },
    {
     "data": {
      "text/html": [
       "<div>\n",
       "<style scoped>\n",
       "    .dataframe tbody tr th:only-of-type {\n",
       "        vertical-align: middle;\n",
       "    }\n",
       "\n",
       "    .dataframe tbody tr th {\n",
       "        vertical-align: top;\n",
       "    }\n",
       "\n",
       "    .dataframe thead th {\n",
       "        text-align: right;\n",
       "    }\n",
       "</style>\n",
       "<table border=\"1\" class=\"dataframe\">\n",
       "  <thead>\n",
       "    <tr style=\"text-align: right;\">\n",
       "      <th></th>\n",
       "      <th>geohash6</th>\n",
       "      <th>day</th>\n",
       "      <th>timestamp</th>\n",
       "      <th>demand</th>\n",
       "    </tr>\n",
       "  </thead>\n",
       "  <tbody>\n",
       "    <tr>\n",
       "      <th>0</th>\n",
       "      <td>qp03wc</td>\n",
       "      <td>18</td>\n",
       "      <td>20:0</td>\n",
       "      <td>0.020072</td>\n",
       "    </tr>\n",
       "    <tr>\n",
       "      <th>1</th>\n",
       "      <td>qp03pn</td>\n",
       "      <td>10</td>\n",
       "      <td>14:30</td>\n",
       "      <td>0.024721</td>\n",
       "    </tr>\n",
       "    <tr>\n",
       "      <th>2</th>\n",
       "      <td>qp09sw</td>\n",
       "      <td>9</td>\n",
       "      <td>6:15</td>\n",
       "      <td>0.102821</td>\n",
       "    </tr>\n",
       "    <tr>\n",
       "      <th>3</th>\n",
       "      <td>qp0991</td>\n",
       "      <td>32</td>\n",
       "      <td>5:0</td>\n",
       "      <td>0.088755</td>\n",
       "    </tr>\n",
       "    <tr>\n",
       "      <th>4</th>\n",
       "      <td>qp090q</td>\n",
       "      <td>15</td>\n",
       "      <td>4:0</td>\n",
       "      <td>0.074468</td>\n",
       "    </tr>\n",
       "  </tbody>\n",
       "</table>\n",
       "</div>"
      ],
      "text/plain": [
       "  geohash6  day timestamp    demand\n",
       "0   qp03wc   18      20:0  0.020072\n",
       "1   qp03pn   10     14:30  0.024721\n",
       "2   qp09sw    9      6:15  0.102821\n",
       "3   qp0991   32       5:0  0.088755\n",
       "4   qp090q   15       4:0  0.074468"
      ]
     },
     "execution_count": 3,
     "metadata": {},
     "output_type": "execute_result"
    }
   ],
   "source": [
    "print(\"The Original dataset:\")\n",
    "traffic_data = pd.read_csv('Traffic Management/training.csv')\n",
    "traffic_data.head()"
   ]
  },
  {
   "cell_type": "code",
   "execution_count": 4,
   "metadata": {},
   "outputs": [
    {
     "name": "stdout",
     "output_type": "stream",
     "text": [
      "Data Type details of the dataset\n",
      "\n",
      "Data type :  <class 'pandas.core.frame.DataFrame'>\n",
      "Data dims :  (4206321, 4)\n",
      "geohash6      object\n",
      "day            int64\n",
      "timestamp     object\n",
      "demand       float64\n",
      "dtype: object\n"
     ]
    }
   ],
   "source": [
    "print(\"Data Type details of the dataset\\n\\nData type : \", type(traffic_data))\n",
    "print(\"Data dims : \", traffic_data.shape)\n",
    "print(traffic_data.dtypes)"
   ]
  },
  {
   "cell_type": "code",
   "execution_count": 5,
   "metadata": {},
   "outputs": [
    {
     "name": "stdout",
     "output_type": "stream",
     "text": [
      "Brief description of Demand of vehicles:\n"
     ]
    },
    {
     "data": {
      "text/html": [
       "<div>\n",
       "<style scoped>\n",
       "    .dataframe tbody tr th:only-of-type {\n",
       "        vertical-align: middle;\n",
       "    }\n",
       "\n",
       "    .dataframe tbody tr th {\n",
       "        vertical-align: top;\n",
       "    }\n",
       "\n",
       "    .dataframe thead th {\n",
       "        text-align: right;\n",
       "    }\n",
       "</style>\n",
       "<table border=\"1\" class=\"dataframe\">\n",
       "  <thead>\n",
       "    <tr style=\"text-align: right;\">\n",
       "      <th></th>\n",
       "      <th>demand</th>\n",
       "    </tr>\n",
       "  </thead>\n",
       "  <tbody>\n",
       "    <tr>\n",
       "      <th>count</th>\n",
       "      <td>4206321.000</td>\n",
       "    </tr>\n",
       "    <tr>\n",
       "      <th>mean</th>\n",
       "      <td>0.105</td>\n",
       "    </tr>\n",
       "    <tr>\n",
       "      <th>std</th>\n",
       "      <td>0.159</td>\n",
       "    </tr>\n",
       "    <tr>\n",
       "      <th>min</th>\n",
       "      <td>0.000</td>\n",
       "    </tr>\n",
       "    <tr>\n",
       "      <th>25%</th>\n",
       "      <td>0.019</td>\n",
       "    </tr>\n",
       "    <tr>\n",
       "      <th>50%</th>\n",
       "      <td>0.050</td>\n",
       "    </tr>\n",
       "    <tr>\n",
       "      <th>75%</th>\n",
       "      <td>0.121</td>\n",
       "    </tr>\n",
       "    <tr>\n",
       "      <th>max</th>\n",
       "      <td>1.000</td>\n",
       "    </tr>\n",
       "  </tbody>\n",
       "</table>\n",
       "</div>"
      ],
      "text/plain": [
       "            demand\n",
       "count  4206321.000\n",
       "mean         0.105\n",
       "std          0.159\n",
       "min          0.000\n",
       "25%          0.019\n",
       "50%          0.050\n",
       "75%          0.121\n",
       "max          1.000"
      ]
     },
     "execution_count": 5,
     "metadata": {},
     "output_type": "execute_result"
    }
   ],
   "source": [
    "print(\"Brief description of Demand of vehicles:\")\n",
    "aggregate_demand = pd.DataFrame(traffic_data['demand'])\n",
    "aggregate_demand.describe().round(3)"
   ]
  },
  {
   "cell_type": "code",
   "execution_count": 6,
   "metadata": {},
   "outputs": [
    {
     "name": "stdout",
     "output_type": "stream",
     "text": [
      "Sorting of the dataset by date and time:\n"
     ]
    },
    {
     "data": {
      "text/html": [
       "<div>\n",
       "<style scoped>\n",
       "    .dataframe tbody tr th:only-of-type {\n",
       "        vertical-align: middle;\n",
       "    }\n",
       "\n",
       "    .dataframe tbody tr th {\n",
       "        vertical-align: top;\n",
       "    }\n",
       "\n",
       "    .dataframe thead th {\n",
       "        text-align: right;\n",
       "    }\n",
       "</style>\n",
       "<table border=\"1\" class=\"dataframe\">\n",
       "  <thead>\n",
       "    <tr style=\"text-align: right;\">\n",
       "      <th></th>\n",
       "      <th>geohash6</th>\n",
       "      <th>day</th>\n",
       "      <th>timestamp</th>\n",
       "      <th>demand</th>\n",
       "    </tr>\n",
       "  </thead>\n",
       "  <tbody>\n",
       "    <tr>\n",
       "      <th>2289</th>\n",
       "      <td>qp09sx</td>\n",
       "      <td>1</td>\n",
       "      <td>0:0</td>\n",
       "      <td>0.021212</td>\n",
       "    </tr>\n",
       "    <tr>\n",
       "      <th>3149</th>\n",
       "      <td>qp0dhg</td>\n",
       "      <td>1</td>\n",
       "      <td>0:0</td>\n",
       "      <td>0.013217</td>\n",
       "    </tr>\n",
       "    <tr>\n",
       "      <th>11052</th>\n",
       "      <td>qp03x5</td>\n",
       "      <td>1</td>\n",
       "      <td>0:0</td>\n",
       "      <td>0.157956</td>\n",
       "    </tr>\n",
       "    <tr>\n",
       "      <th>23011</th>\n",
       "      <td>qp09bw</td>\n",
       "      <td>1</td>\n",
       "      <td>0:0</td>\n",
       "      <td>0.001262</td>\n",
       "    </tr>\n",
       "    <tr>\n",
       "      <th>26180</th>\n",
       "      <td>qp03wn</td>\n",
       "      <td>1</td>\n",
       "      <td>0:0</td>\n",
       "      <td>0.032721</td>\n",
       "    </tr>\n",
       "  </tbody>\n",
       "</table>\n",
       "</div>"
      ],
      "text/plain": [
       "      geohash6  day timestamp    demand\n",
       "2289    qp09sx    1       0:0  0.021212\n",
       "3149    qp0dhg    1       0:0  0.013217\n",
       "11052   qp03x5    1       0:0  0.157956\n",
       "23011   qp09bw    1       0:0  0.001262\n",
       "26180   qp03wn    1       0:0  0.032721"
      ]
     },
     "execution_count": 6,
     "metadata": {},
     "output_type": "execute_result"
    }
   ],
   "source": [
    "print(\"Sorting of the dataset by date and time:\")\n",
    "traffic_data_sortdayNtime = pd.DataFrame(traffic_data)\n",
    "traffic_data_sortdayNtime = traffic_data_sortdayNtime.sort_values(['day', 'timestamp'], ascending = True)\n",
    "traffic_data_sortdayNtime.head()"
   ]
  },
  {
   "cell_type": "markdown",
   "metadata": {},
   "source": [
    "## Data Analysis"
   ]
  },
  {
   "cell_type": "code",
   "execution_count": 7,
   "metadata": {},
   "outputs": [
    {
     "name": "stdout",
     "output_type": "stream",
     "text": [
      "Boxplot of the demand for the vehicles\n"
     ]
    },
    {
     "data": {
      "text/plain": [
       "<matplotlib.axes._subplots.AxesSubplot at 0x219020664e0>"
      ]
     },
     "execution_count": 7,
     "metadata": {},
     "output_type": "execute_result"
    },
    {
     "data": {
      "image/png": "[encoded data removed]",
      "text/plain": [
       "<Figure size 1728x360 with 1 Axes>"
      ]
     },
     "metadata": {
      "needs_background": "light"
     },
     "output_type": "display_data"
    }
   ],
   "source": [
    "print(\"Boxplot of the demand for the vehicles\")\n",
    "f, axes = plt.subplots(1, 1, figsize = (24,5))\n",
    "sb.boxplot(data = traffic_data_sortdayNtime['demand'], orient = \"h\", color = 'r')"
   ]
  },
  {
   "cell_type": "code",
   "execution_count": 8,
   "metadata": {},
   "outputs": [
    {
     "name": "stdout",
     "output_type": "stream",
     "text": [
      "Histogram with KDE of the demand for the vehicles\n"
     ]
    },
    {
     "data": {
      "text/plain": [
       "<matplotlib.axes._subplots.AxesSubplot at 0x2190275d940>"
      ]
     },
     "execution_count": 8,
     "metadata": {},
     "output_type": "execute_result"
    },
    {
     "data": {
      "image/png": "[encoded data removed]",
      "text/plain": [
       "<Figure size 1728x360 with 1 Axes>"
      ]
     },
     "metadata": {
      "needs_background": "light"
     },
     "output_type": "display_data"
    }
   ],
   "source": [
    "print(\"Histogram with KDE of the demand for the vehicles\")\n",
    "f, axes = plt.subplots(1, 1, figsize = (24,5))\n",
    "sb.distplot(traffic_data_sortdayNtime['demand'], color='b')"
   ]
  },
  {
   "cell_type": "code",
   "execution_count": 9,
   "metadata": {},
   "outputs": [
    {
     "name": "stdout",
     "output_type": "stream",
     "text": [
      "No. of data for each day\n"
     ]
    },
    {
     "data": {
      "text/plain": [
       "<seaborn.axisgrid.FacetGrid at 0x2196962e710>"
      ]
     },
     "execution_count": 9,
     "metadata": {},
     "output_type": "execute_result"
    },
    {
     "data": {
      "image/png": "[encoded data removed]",
      "text/plain": [
       "<Figure size 432x720 with 1 Axes>"
      ]
     },
     "metadata": {
      "needs_background": "light"
     },
     "output_type": "display_data"
    }
   ],
   "source": [
    "print(\"No. of data for each day\")\n",
    "sb.catplot(y = 'day', data = traffic_data_sortdayNtime, kind = \"count\", height = 10, aspect = 0.6)"
   ]
  },
  {
   "cell_type": "code",
   "execution_count": 10,
   "metadata": {},
   "outputs": [
    {
     "name": "stdout",
     "output_type": "stream",
     "text": [
      "There are 1329 unique Geohash locations.\n"
     ]
    }
   ],
   "source": [
    "print(\"There are\", len(traffic_data_sortdayNtime['geohash6'].unique()), \"unique Geohash locations.\")"
   ]
  },
  {
   "cell_type": "markdown",
   "metadata": {},
   "source": [
    "# Split the dataset"
   ]
  },
  {
   "cell_type": "code",
   "execution_count": 11,
   "metadata": {},
   "outputs": [
    {
     "name": "stdout",
     "output_type": "stream",
     "text": [
      "Number of datapoints from each individual Geohash locations\n"
     ]
    },
    {
     "data": {
      "text/plain": [
       "<matplotlib.axes._subplots.AxesSubplot at 0x21903c024e0>"
      ]
     },
     "execution_count": 11,
     "metadata": {},
     "output_type": "execute_result"
    },
    {
     "data": {
      "image/png": "[encoded data removed]",
      "text/plain": [
       "<Figure size 1728x360 with 1 Axes>"
      ]
     },
     "metadata": {
      "needs_background": "light"
     },
     "output_type": "display_data"
    }
   ],
   "source": [
    "print(\"Number of datapoints from each individual Geohash locations\")\n",
    "f, axes = plt.subplots(1, 1, figsize = (24,5))\n",
    "sb.countplot(x = \"geohash6\", data = traffic_data_sortdayNtime)"
   ]
  },
  {
   "cell_type": "code",
   "execution_count": 12,
   "metadata": {},
   "outputs": [
    {
     "data": {
      "text/html": [
       "<div>\n",
       "<style scoped>\n",
       "    .dataframe tbody tr th:only-of-type {\n",
       "        vertical-align: middle;\n",
       "    }\n",
       "\n",
       "    .dataframe tbody tr th {\n",
       "        vertical-align: top;\n",
       "    }\n",
       "\n",
       "    .dataframe thead th {\n",
       "        text-align: right;\n",
       "    }\n",
       "</style>\n",
       "<table border=\"1\" class=\"dataframe\">\n",
       "  <thead>\n",
       "    <tr style=\"text-align: right;\">\n",
       "      <th></th>\n",
       "      <th>geohash6</th>\n",
       "      <th>day</th>\n",
       "      <th>timestamp</th>\n",
       "      <th>demand</th>\n",
       "    </tr>\n",
       "  </thead>\n",
       "  <tbody>\n",
       "    <tr>\n",
       "      <th>788610</th>\n",
       "      <td>qp09d9</td>\n",
       "      <td>13</td>\n",
       "      <td>8:45</td>\n",
       "      <td>1.0</td>\n",
       "    </tr>\n",
       "    <tr>\n",
       "      <th>1380222</th>\n",
       "      <td>qp096q</td>\n",
       "      <td>56</td>\n",
       "      <td>11:0</td>\n",
       "      <td>1.0</td>\n",
       "    </tr>\n",
       "    <tr>\n",
       "      <th>1364029</th>\n",
       "      <td>qp096v</td>\n",
       "      <td>56</td>\n",
       "      <td>11:0</td>\n",
       "      <td>1.0</td>\n",
       "    </tr>\n",
       "    <tr>\n",
       "      <th>2221855</th>\n",
       "      <td>qp09e5</td>\n",
       "      <td>54</td>\n",
       "      <td>7:15</td>\n",
       "      <td>1.0</td>\n",
       "    </tr>\n",
       "    <tr>\n",
       "      <th>1005934</th>\n",
       "      <td>qp096x</td>\n",
       "      <td>39</td>\n",
       "      <td>4:15</td>\n",
       "      <td>1.0</td>\n",
       "    </tr>\n",
       "  </tbody>\n",
       "</table>\n",
       "</div>"
      ],
      "text/plain": [
       "        geohash6  day timestamp  demand\n",
       "788610    qp09d9   13      8:45     1.0\n",
       "1380222   qp096q   56      11:0     1.0\n",
       "1364029   qp096v   56      11:0     1.0\n",
       "2221855   qp09e5   54      7:15     1.0\n",
       "1005934   qp096x   39      4:15     1.0"
      ]
     },
     "execution_count": 12,
     "metadata": {},
     "output_type": "execute_result"
    }
   ],
   "source": [
    "data_sortByDd = traffic_data_sortdayNtime.sort_values(['demand'], ascending = False)\n",
    "data_sortByDd.head()"
   ]
  },
  {
   "cell_type": "code",
   "execution_count": 13,
   "metadata": {},
   "outputs": [
    {
     "name": "stdout",
     "output_type": "stream",
     "text": [
      "\n",
      "The most number of datapoints come from the following locations:\n",
      "qp03yb    5846\n",
      "qp03wf    5846\n",
      "qp03xw    5846\n",
      "qp03wz    5846\n",
      "qp03qm    5845\n",
      "qp03xm    5845\n",
      "qp03w9    5845\n",
      "qp03zv    5845\n",
      "qp092m    5845\n",
      "qp03qg    5845\n",
      "Name: geohash6, dtype: int64\n"
     ]
    }
   ],
   "source": [
    "print(\"\\nThe most number of datapoints come from the following locations:\")\n",
    "print(data_sortByDd['geohash6'].value_counts().nlargest(10))"
   ]
  },
  {
   "cell_type": "code",
   "execution_count": 14,
   "metadata": {},
   "outputs": [
    {
     "name": "stdout",
     "output_type": "stream",
     "text": [
      "data_01 = data_sortByDd.loc[(data_sortByDd['demand'] > 0.0) & (data_sortByDd['demand'] <= 0.1)]\n",
      "data_02 = data_sortByDd.loc[(data_sortByDd['demand'] > 0.1) & (data_sortByDd['demand'] <= 0.2)]\n",
      "data_03 = data_sortByDd.loc[(data_sortByDd['demand'] > 0.2) & (data_sortByDd['demand'] <= 0.3)]\n",
      "data_04 = data_sortByDd.loc[(data_sortByDd['demand'] > 0.3) & (data_sortByDd['demand'] <= 0.4)]\n",
      "data_05 = data_sortByDd.loc[(data_sortByDd['demand'] > 0.4) & (data_sortByDd['demand'] <= 0.5)]\n",
      "data_06 = data_sortByDd.loc[(data_sortByDd['demand'] > 0.5) & (data_sortByDd['demand'] <= 0.6)]\n",
      "data_07 = data_sortByDd.loc[(data_sortByDd['demand'] > 0.6) & (data_sortByDd['demand'] <= 0.7)]\n",
      "data_08 = data_sortByDd.loc[(data_sortByDd['demand'] > 0.7) & (data_sortByDd['demand'] <= 0.8)]\n",
      "data_09 = data_sortByDd.loc[(data_sortByDd['demand'] > 0.8) & (data_sortByDd['demand'] <= 0.9)]\n",
      "print(\"data_01:\", len(data_01))\n",
      "print(\"data_02:\", len(data_02))\n",
      "print(\"data_03:\", len(data_03))\n",
      "print(\"data_04:\", len(data_04))\n",
      "print(\"data_05:\", len(data_05))\n",
      "print(\"data_06:\", len(data_06))\n",
      "print(\"data_07:\", len(data_07))\n",
      "print(\"data_08:\", len(data_08))\n",
      "print(\"data_09:\", len(data_09))\n",
      "print(\"data_10:\", len(data_10))\n"
     ]
    }
   ],
   "source": [
    "for i in range(0, 9):\n",
    "    print(\"data_0\" + str(i+1) + \" = data_sortByDd.loc[(data_sortByDd['demand'] > 0.\" + str(i) +\n",
    "          \") & (data_sortByDd['demand'] <= 0.\" + str(i+1) + \")]\")\n",
    "for i in range(0, 9):\n",
    "    print(\"print(\\\"data_0\" + str(i+1) + \":\\\", \" + \"len(data_0\" + str(i+1) + \"))\")\n",
    "print(\"print(\\\"data_10:\\\", len(data_10))\")"
   ]
  },
  {
   "cell_type": "markdown",
   "metadata": {},
   "source": [
    "#### The dataframe has been sorted according to the aggregate demand."
   ]
  },
  {
   "cell_type": "code",
   "execution_count": 15,
   "metadata": {},
   "outputs": [],
   "source": [
    "data_01 = data_sortByDd.loc[(data_sortByDd['demand'] > 0.0) & (data_sortByDd['demand'] <= 0.1)]\n",
    "data_02 = data_sortByDd.loc[(data_sortByDd['demand'] > 0.1) & (data_sortByDd['demand'] <= 0.2)]\n",
    "data_03 = data_sortByDd.loc[(data_sortByDd['demand'] > 0.2) & (data_sortByDd['demand'] <= 0.3)]\n",
    "data_04 = data_sortByDd.loc[(data_sortByDd['demand'] > 0.3) & (data_sortByDd['demand'] <= 0.4)]\n",
    "data_05 = data_sortByDd.loc[(data_sortByDd['demand'] > 0.4) & (data_sortByDd['demand'] <= 0.5)]\n",
    "data_06 = data_sortByDd.loc[(data_sortByDd['demand'] > 0.5) & (data_sortByDd['demand'] <= 0.6)]\n",
    "data_07 = data_sortByDd.loc[(data_sortByDd['demand'] > 0.6) & (data_sortByDd['demand'] <= 0.7)]\n",
    "data_08 = data_sortByDd.loc[(data_sortByDd['demand'] > 0.7) & (data_sortByDd['demand'] <= 0.8)]\n",
    "data_09 = data_sortByDd.loc[(data_sortByDd['demand'] > 0.8) & (data_sortByDd['demand'] <= 0.9)]\n",
    "data_10 = data_sortByDd.loc[(data_sortByDd['demand'] > 0.9) & (data_sortByDd['demand'] <= 1)]"
   ]
  },
  {
   "cell_type": "code",
   "execution_count": 16,
   "metadata": {},
   "outputs": [
    {
     "name": "stdout",
     "output_type": "stream",
     "text": [
      "The number of datapoints in each group based on aggregate demand.\n",
      "data_01: 2938937\n",
      "data_02: 692727\n",
      "data_03: 256063\n",
      "data_04: 114699\n",
      "data_05: 60155\n",
      "data_06: 35849\n",
      "data_07: 24362\n",
      "data_08: 17431\n",
      "data_09: 13309\n",
      "data_10: 52789\n"
     ]
    }
   ],
   "source": [
    "print(\"The number of datapoints in each group based on aggregate demand.\")\n",
    "print(\"data_01:\", len(data_01))\n",
    "print(\"data_02:\", len(data_02))\n",
    "print(\"data_03:\", len(data_03))\n",
    "print(\"data_04:\", len(data_04))\n",
    "print(\"data_05:\", len(data_05))\n",
    "print(\"data_06:\", len(data_06))\n",
    "print(\"data_07:\", len(data_07))\n",
    "print(\"data_08:\", len(data_08))\n",
    "print(\"data_09:\", len(data_09))\n",
    "print(\"data_10:\", len(data_10))"
   ]
  },
  {
   "cell_type": "markdown",
   "metadata": {},
   "source": [
    "Tring out on the decode function to find the exact longitude and latitude of the geohash code."
   ]
  },
  {
   "cell_type": "code",
   "execution_count": 17,
   "metadata": {},
   "outputs": [
    {
     "data": {
      "text/html": [
       "<div>\n",
       "<style scoped>\n",
       "    .dataframe tbody tr th:only-of-type {\n",
       "        vertical-align: middle;\n",
       "    }\n",
       "\n",
       "    .dataframe tbody tr th {\n",
       "        vertical-align: top;\n",
       "    }\n",
       "\n",
       "    .dataframe thead th {\n",
       "        text-align: right;\n",
       "    }\n",
       "</style>\n",
       "<table border=\"1\" class=\"dataframe\">\n",
       "  <thead>\n",
       "    <tr style=\"text-align: right;\">\n",
       "      <th></th>\n",
       "      <th>geohash6</th>\n",
       "      <th>day</th>\n",
       "      <th>timestamp</th>\n",
       "      <th>demand</th>\n",
       "      <th>latitude</th>\n",
       "      <th>longitude</th>\n",
       "    </tr>\n",
       "  </thead>\n",
       "  <tbody>\n",
       "    <tr>\n",
       "      <th>788610</th>\n",
       "      <td>qp09d9</td>\n",
       "      <td>13</td>\n",
       "      <td>8:45</td>\n",
       "      <td>1.0</td>\n",
       "      <td>-5.35</td>\n",
       "      <td>90.8</td>\n",
       "    </tr>\n",
       "    <tr>\n",
       "      <th>1380222</th>\n",
       "      <td>qp096q</td>\n",
       "      <td>56</td>\n",
       "      <td>11:0</td>\n",
       "      <td>1.0</td>\n",
       "      <td>-5.37</td>\n",
       "      <td>90.8</td>\n",
       "    </tr>\n",
       "    <tr>\n",
       "      <th>1364029</th>\n",
       "      <td>qp096v</td>\n",
       "      <td>56</td>\n",
       "      <td>11:0</td>\n",
       "      <td>1.0</td>\n",
       "      <td>-5.38</td>\n",
       "      <td>90.8</td>\n",
       "    </tr>\n",
       "    <tr>\n",
       "      <th>2221855</th>\n",
       "      <td>qp09e5</td>\n",
       "      <td>54</td>\n",
       "      <td>7:15</td>\n",
       "      <td>1.0</td>\n",
       "      <td>-5.34</td>\n",
       "      <td>90.8</td>\n",
       "    </tr>\n",
       "    <tr>\n",
       "      <th>1005934</th>\n",
       "      <td>qp096x</td>\n",
       "      <td>39</td>\n",
       "      <td>4:15</td>\n",
       "      <td>1.0</td>\n",
       "      <td>-5.36</td>\n",
       "      <td>90.8</td>\n",
       "    </tr>\n",
       "  </tbody>\n",
       "</table>\n",
       "</div>"
      ],
      "text/plain": [
       "        geohash6  day timestamp  demand latitude longitude\n",
       "788610    qp09d9   13      8:45     1.0    -5.35      90.8\n",
       "1380222   qp096q   56      11:0     1.0    -5.37      90.8\n",
       "1364029   qp096v   56      11:0     1.0    -5.38      90.8\n",
       "2221855   qp09e5   54      7:15     1.0    -5.34      90.8\n",
       "1005934   qp096x   39      4:15     1.0    -5.36      90.8"
      ]
     },
     "execution_count": 17,
     "metadata": {},
     "output_type": "execute_result"
    }
   ],
   "source": [
    "new_data10 = data_10.join(data_10['geohash6'].apply(gh_decode))\n",
    "new_data10.head()"
   ]
  },
  {
   "cell_type": "code",
   "execution_count": 18,
   "metadata": {},
   "outputs": [
    {
     "name": "stdout",
     "output_type": "stream",
     "text": [
      "There are 1329 unique geospatial locations.\n"
     ]
    }
   ],
   "source": [
    "print(\"There are\", len(data_sortByDd['geohash6'].unique()), \"unique geospatial locations.\")"
   ]
  },
  {
   "cell_type": "markdown",
   "metadata": {},
   "source": [
    "## Analysing the datapoints where demand is from 0.9 to 1"
   ]
  },
  {
   "cell_type": "code",
   "execution_count": 19,
   "metadata": {},
   "outputs": [
    {
     "name": "stdout",
     "output_type": "stream",
     "text": [
      "print(data_01['geohash6'].value_counts().nlargest(10), \"\\n\")\n",
      "print(data_02['geohash6'].value_counts().nlargest(10), \"\\n\")\n",
      "print(data_03['geohash6'].value_counts().nlargest(10), \"\\n\")\n",
      "print(data_04['geohash6'].value_counts().nlargest(10), \"\\n\")\n",
      "print(data_05['geohash6'].value_counts().nlargest(10), \"\\n\")\n",
      "print(data_06['geohash6'].value_counts().nlargest(10), \"\\n\")\n",
      "print(data_07['geohash6'].value_counts().nlargest(10), \"\\n\")\n",
      "print(data_08['geohash6'].value_counts().nlargest(10), \"\\n\")\n",
      "print(data_09['geohash6'].value_counts().nlargest(10), \"\\n\")\n"
     ]
    }
   ],
   "source": [
    "for i in range(0, 9):\n",
    "    print(\"print(data_0\" + str(i+1) + \"['geohash6'].value_counts().nlargest(10), \\\"\\\\n\\\")\")"
   ]
  },
  {
   "cell_type": "code",
   "execution_count": 20,
   "metadata": {},
   "outputs": [
    {
     "name": "stdout",
     "output_type": "stream",
     "text": [
      "The most number of datapoints from data_10 come from:\n",
      "qp09d9    4018\n",
      "qp09e5    3671\n",
      "qp03xx    3406\n",
      "qp03xw    3052\n",
      "qp03yb    2446\n",
      "qp09d2    2340\n",
      "qp09eq    2235\n",
      "qp03wf    2180\n",
      "qp03wz    2144\n",
      "qp096q    2125\n",
      "Name: geohash6, dtype: int64\n"
     ]
    }
   ],
   "source": [
    "print(\"The most number of datapoints from data_10 come from:\")\n",
    "print(data_10['geohash6'].value_counts().nlargest(10))"
   ]
  },
  {
   "cell_type": "markdown",
   "metadata": {},
   "source": [
    "## Analyse demand and time where demand is from 0.9 to 1"
   ]
  },
  {
   "cell_type": "markdown",
   "metadata": {},
   "source": [
    "Analyse a specific day in the dataframe. (i.e. day 10)"
   ]
  },
  {
   "cell_type": "code",
   "execution_count": 21,
   "metadata": {},
   "outputs": [
    {
     "name": "stdout",
     "output_type": "stream",
     "text": [
      "The most sought after timestamp in day 10 is:\n",
      "8:0      18\n",
      "8:15     17\n",
      "11:0     16\n",
      "10:15    16\n",
      "10:45    16\n",
      "12:45    14\n",
      "7:45     14\n",
      "8:30     14\n",
      "13:15    13\n",
      "11:15    13\n",
      "Name: timestamp, dtype: int64\n"
     ]
    }
   ],
   "source": [
    "data_10_time = data_10.sort_values(['day', 'timestamp'], ascending = True)\n",
    "data_10_day10 = data_10_time.loc[(data_10_time['day'] == 10)]\n",
    "\n",
    "print(\"The most sought after timestamp in day 10 is:\")\n",
    "print(data_10_day10['timestamp'].value_counts().nlargest(10))"
   ]
  },
  {
   "cell_type": "markdown",
   "metadata": {},
   "source": [
    "## Analyse the Longitude and Latitude"
   ]
  },
  {
   "cell_type": "code",
   "execution_count": 22,
   "metadata": {},
   "outputs": [
    {
     "data": {
      "image/png": "[encoded data removed]",
      "text/plain": [
       "<Figure size 576x576 with 1 Axes>"
      ]
     },
     "metadata": {
      "needs_background": "light"
     },
     "output_type": "display_data"
    }
   ],
   "source": [
    "x1 = new_data10['longitude']\n",
    "y1 = new_data10['latitude']\n",
    "\n",
    "plt.figure(figsize=(8, 8))\n",
    "plt.plot(x1, y1, 'o', color='black');"
   ]
  },
  {
   "cell_type": "code",
   "execution_count": 23,
   "metadata": {},
   "outputs": [
    {
     "data": {
      "text/html": [
       "<div>\n",
       "<style scoped>\n",
       "    .dataframe tbody tr th:only-of-type {\n",
       "        vertical-align: middle;\n",
       "    }\n",
       "\n",
       "    .dataframe tbody tr th {\n",
       "        vertical-align: top;\n",
       "    }\n",
       "\n",
       "    .dataframe thead th {\n",
       "        text-align: right;\n",
       "    }\n",
       "</style>\n",
       "<table border=\"1\" class=\"dataframe\">\n",
       "  <thead>\n",
       "    <tr style=\"text-align: right;\">\n",
       "      <th></th>\n",
       "      <th>geohash6</th>\n",
       "      <th>day</th>\n",
       "      <th>timestamp</th>\n",
       "      <th>demand</th>\n",
       "      <th>latitude</th>\n",
       "      <th>longitude</th>\n",
       "    </tr>\n",
       "  </thead>\n",
       "  <tbody>\n",
       "    <tr>\n",
       "      <th>788610</th>\n",
       "      <td>qp09d9</td>\n",
       "      <td>13</td>\n",
       "      <td>8:45</td>\n",
       "      <td>1.0</td>\n",
       "      <td>-5.35</td>\n",
       "      <td>90.8</td>\n",
       "    </tr>\n",
       "    <tr>\n",
       "      <th>1380222</th>\n",
       "      <td>qp096q</td>\n",
       "      <td>56</td>\n",
       "      <td>11:0</td>\n",
       "      <td>1.0</td>\n",
       "      <td>-5.37</td>\n",
       "      <td>90.8</td>\n",
       "    </tr>\n",
       "    <tr>\n",
       "      <th>1364029</th>\n",
       "      <td>qp096v</td>\n",
       "      <td>56</td>\n",
       "      <td>11:0</td>\n",
       "      <td>1.0</td>\n",
       "      <td>-5.38</td>\n",
       "      <td>90.8</td>\n",
       "    </tr>\n",
       "    <tr>\n",
       "      <th>2221855</th>\n",
       "      <td>qp09e5</td>\n",
       "      <td>54</td>\n",
       "      <td>7:15</td>\n",
       "      <td>1.0</td>\n",
       "      <td>-5.34</td>\n",
       "      <td>90.8</td>\n",
       "    </tr>\n",
       "    <tr>\n",
       "      <th>1005934</th>\n",
       "      <td>qp096x</td>\n",
       "      <td>39</td>\n",
       "      <td>4:15</td>\n",
       "      <td>1.0</td>\n",
       "      <td>-5.36</td>\n",
       "      <td>90.8</td>\n",
       "    </tr>\n",
       "  </tbody>\n",
       "</table>\n",
       "</div>"
      ],
      "text/plain": [
       "        geohash6  day timestamp  demand latitude longitude\n",
       "788610    qp09d9   13      8:45     1.0    -5.35      90.8\n",
       "1380222   qp096q   56      11:0     1.0    -5.37      90.8\n",
       "1364029   qp096v   56      11:0     1.0    -5.38      90.8\n",
       "2221855   qp09e5   54      7:15     1.0    -5.34      90.8\n",
       "1005934   qp096x   39      4:15     1.0    -5.36      90.8"
      ]
     },
     "execution_count": 23,
     "metadata": {},
     "output_type": "execute_result"
    }
   ],
   "source": [
    "data_11 = data_sortByDd.loc[(data_sortByDd['demand'] > 0.5) & (data_sortByDd['demand'] <= 1)]\n",
    "new_data11 = data_11.join(data_11['geohash6'].apply(gh_decode))\n",
    "new_data11.head()"
   ]
  },
  {
   "cell_type": "code",
   "execution_count": 24,
   "metadata": {},
   "outputs": [
    {
     "data": {
      "text/plain": [
       "<matplotlib.collections.PathCollection at 0x2194a560160>"
      ]
     },
     "execution_count": 24,
     "metadata": {},
     "output_type": "execute_result"
    },
    {
     "data": {
      "image/png": "[encoded data removed]",
      "text/plain": [
       "<Figure size 576x576 with 1 Axes>"
      ]
     },
     "metadata": {
      "needs_background": "light"
     },
     "output_type": "display_data"
    }
   ],
   "source": [
    "X = pd.DataFrame(new_data11[[\"longitude\", \"latitude\"]])\n",
    "\n",
    "# Plot the Raw Data on a 2D grid\n",
    "f, axes = plt.subplots(1, 1, figsize=(8,8))\n",
    "plt.scatter(x = \"longitude\", y = \"latitude\", data = X)"
   ]
  },
  {
   "cell_type": "code",
   "execution_count": 25,
   "metadata": {},
   "outputs": [
    {
     "name": "stdout",
     "output_type": "stream",
     "text": [
      "143740\n"
     ]
    }
   ],
   "source": [
    "print(len(new_data11))"
   ]
  }
 ],
 "metadata": {
  "kernelspec": {
   "display_name": "Python 3",
   "language": "python",
   "name": "python3"
  },
  "language_info": {
   "codemirror_mode": {
    "name": "ipython",
    "version": 3
   },
   "file_extension": ".py",
   "mimetype": "text/x-python",
   "name": "python",
   "nbconvert_exporter": "python",
   "pygments_lexer": "ipython3",
   "version": "3.6.8"
  }
 },
 "nbformat": 4,
 "nbformat_minor": 2
}
